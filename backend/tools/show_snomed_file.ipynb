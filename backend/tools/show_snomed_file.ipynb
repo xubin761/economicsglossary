{
 "cells": [
  {
   "cell_type": "code",
   "execution_count": 19,
   "metadata": {},
   "outputs": [
    {
     "name": "stdout",
     "output_type": "stream",
     "text": [
      "当前工作目录路径: C:\\Users\\Administrator\\Documents\\GitHub\\rag-project02-medical-nlp-box\\backend\\tools\n"
     ]
    }
   ],
   "source": [
    "import os\n",
    "\n",
    "# 获取当前工作目录路径\n",
    "current_working_directory = os.getcwd()\n",
    "print(\"当前工作目录路径:\", current_working_directory)\n",
    "path = \"C:\\\\Users\\\\Administrator\\\\Documents\\\\GitHub\\\\rag-project02-medical-nlp-box\\\\backend\\\\data\\\\SNOMED_5000.csv\"\n"
   ]
  },
  {
   "cell_type": "code",
   "execution_count": 20,
   "metadata": {
    "vscode": {
     "languageId": "plaintext"
    }
   },
   "outputs": [
    {
     "name": "stdout",
     "output_type": "stream",
     "text": [
      "数据形状: (5002, 11)\n",
      "列名: ['concept_id', 'concept_name', 'domain_id', 'vocabulary_id', 'concept_class_id', 'standard_concept', 'concept_code', 'valid_start_date', 'valid_end_date', 'invalid_reason', 'FSN']\n",
      "\n",
      "随机5行数据:\n",
      "      concept_id                                      concept_name  \\\n",
      "1990     4029000                       Blood group antibody Middel   \n",
      "270     44789855                       FP81 night visit claim form   \n",
      "606      4043211                             Normalization therapy   \n",
      "431      4334894            Local anesthetic maxillary nerve block   \n",
      "3531     4300224  Oral mucous membrane lesion due to late syphilis   \n",
      "\n",
      "         domain_id vocabulary_id concept_class_id standard_concept  \\\n",
      "1990   Observation        SNOMED        Substance                S   \n",
      "270   Type Concept        SNOMED  Record Artifact              NaN   \n",
      "606      Procedure        SNOMED        Procedure                S   \n",
      "431      Procedure        SNOMED        Procedure                S   \n",
      "3531     Condition        SNOMED         Disorder                S   \n",
      "\n",
      "        concept_code  valid_start_date  valid_end_date  invalid_reason  \\\n",
      "1990        13772008          20020131        20991231             NaN   \n",
      "270   21951000000102          20040131        20991231             NaN   \n",
      "606        228591007          20020131        20991231             NaN   \n",
      "431        231221003          20020131        20991231             NaN   \n",
      "3531       402951004          20030731        20991231             NaN   \n",
      "\n",
      "                                                              FSN  \n",
      "1990                      Blood group antibody Middel (substance)  \n",
      "270                                                           NaN  \n",
      "606                             Normalization therapy (procedure)  \n",
      "431            Local anesthetic maxillary nerve block (procedure)  \n",
      "3531  Oral mucous membrane lesion due to late syphilis (disorder)  \n"
     ]
    }
   ],
   "source": [
    "# display the snomed file\n",
    "import pandas as pd\n",
    "\n",
    "df = pd.read_csv(path,\n",
    "                low_memory=False\n",
    "                )\n",
    "\n",
    "# 显示数据的基本信息\n",
    "print(\"数据形状:\", df.shape)\n",
    "print(\"列名:\", df.columns.tolist())\n",
    "\n",
    "# 随机展示5行数据的完整内容\n",
    "print(\"\\n随机5行数据:\")\n",
    "pd.set_option('display.max_columns', None)  # 显示所有列\n",
    "pd.set_option('display.width', None)  # 显示所有内容不截断\n",
    "pd.set_option('display.max_colwidth', None)  # 显示每列的完整内容\n",
    "print(df.sample(5))  # 使用sample方法随机抽取5行"
   ]
  },
  {
   "cell_type": "code",
   "execution_count": 21,
   "metadata": {
    "vscode": {
     "languageId": "plaintext"
    }
   },
   "outputs": [
    {
     "name": "stdout",
     "output_type": "stream",
     "text": [
      "\n",
      "数据类型和非空值统计:\n",
      "<class 'pandas.core.frame.DataFrame'>\n",
      "RangeIndex: 5002 entries, 0 to 5001\n",
      "Data columns (total 11 columns):\n",
      " #   Column            Non-Null Count  Dtype  \n",
      "---  ------            --------------  -----  \n",
      " 0   concept_id        5002 non-null   int64  \n",
      " 1   concept_name      5002 non-null   object \n",
      " 2   domain_id         5002 non-null   object \n",
      " 3   vocabulary_id     5002 non-null   object \n",
      " 4   concept_class_id  5002 non-null   object \n",
      " 5   standard_concept  4191 non-null   object \n",
      " 6   concept_code      5002 non-null   int64  \n",
      " 7   valid_start_date  5002 non-null   int64  \n",
      " 8   valid_end_date    5002 non-null   int64  \n",
      " 9   invalid_reason    0 non-null      float64\n",
      " 10  FSN               4499 non-null   object \n",
      "dtypes: float64(1), int64(4), object(6)\n",
      "memory usage: 430.0+ KB\n",
      "None\n"
     ]
    }
   ],
   "source": [
    "# 显示每列的数据类型和非空值数量\n",
    "print(\"\\n数据类型和非空值统计:\")\n",
    "print(df.info())\n",
    "\n",
    "# 显示数值列的统计摘要\n",
    "# print(\"\\n数值列统计摘要:\")\n",
    "# print(df.describe())"
   ]
  },
  {
   "cell_type": "code",
   "execution_count": 22,
   "metadata": {},
   "outputs": [
    {
     "name": "stdout",
     "output_type": "stream",
     "text": [
      "\n",
      "包含'Chronic back pain的概念:\n",
      "找到 0 条包含'backpain'的记录\n",
      "Empty DataFrame\n",
      "Columns: [concept_code, concept_name, domain_id, concept_class_id]\n",
      "Index: []\n"
     ]
    }
   ],
   "source": [
    "# 检索包含\"Headace\"的概念名称\n",
    "print(\"\\n包含'Chronic back pain的概念:\")\n",
    "backpain_concepts = df[df['concept_name'].str.contains('Chronic back pain', case=False, na=False)]\n",
    "print(f\"找到 {len(backpain_concepts)} 条包含'backpain'的记录\")\n",
    "print(backpain_concepts[['concept_code', 'concept_name', 'domain_id', 'concept_class_id']])"
   ]
  },
  {
   "cell_type": "code",
   "execution_count": 23,
   "metadata": {},
   "outputs": [
    {
     "name": "stdout",
     "output_type": "stream",
     "text": [
      "\n",
      "domain_id 和 concept_class_id 的列表:\n",
      "['Condition' 'Procedure' 'Observation' 'Measurement' 'Drug' 'Device'\n",
      " 'Spec Anatomic Site' 'Specimen' 'Unit' 'Metadata' 'Race' 'Meas Value'\n",
      " 'Type Concept' 'Provider' 'Relationship' 'Geography' 'Language' 'Route']\n",
      "['Disorder' 'Procedure' 'Observable Entity' 'Clinical Drug Form'\n",
      " 'Physical Object' 'Event' 'Organism' 'Clinical Finding' 'Body Structure'\n",
      " 'Pharma/Biol Product' 'Morph Abnormality' 'Specimen' 'Substance'\n",
      " 'Staging / Scales' 'Dose Form' 'Social Context' 'Qualifier Value'\n",
      " 'Context-dependent' 'Clinical Drug' 'Model Comp' 'Location'\n",
      " 'Record Artifact' 'Attribute' 'Navi Concept' 'Linkage Assertion'\n",
      " 'Disposition' 'Physical Force' 'Namespace Concept']\n"
     ]
    }
   ],
   "source": [
    "# domain_id 和 concept_class_id - 展示一下列表\n",
    "print(\"\\ndomain_id 和 concept_class_id 的列表:\")\n",
    "print(df['domain_id'].unique())\n",
    "print(df['concept_class_id'].unique())"
   ]
  },
  {
   "cell_type": "code",
   "execution_count": null,
   "metadata": {},
   "outputs": [],
   "source": []
  },
  {
   "cell_type": "code",
   "execution_count": null,
   "metadata": {},
   "outputs": [],
   "source": []
  },
  {
   "cell_type": "code",
   "execution_count": 24,
   "metadata": {},
   "outputs": [
    {
     "name": "stdout",
     "output_type": "stream",
     "text": [
      "\n",
      "包含'Dyspnea'的概念:\n",
      "找到 1 条包含'Dyspnea'的记录\n"
     ]
    },
    {
     "ename": "KeyError",
     "evalue": "\"['Synonyms'] not in index\"",
     "output_type": "error",
     "traceback": [
      "\u001b[31m---------------------------------------------------------------------------\u001b[39m",
      "\u001b[31mKeyError\u001b[39m                                  Traceback (most recent call last)",
      "\u001b[36mCell\u001b[39m\u001b[36m \u001b[39m\u001b[32mIn[24]\u001b[39m\u001b[32m, line 5\u001b[39m\n\u001b[32m      3\u001b[39m dyspnea_concepts = df[df[\u001b[33m'\u001b[39m\u001b[33mconcept_name\u001b[39m\u001b[33m'\u001b[39m].str.contains(\u001b[33m'\u001b[39m\u001b[33mDyspnea\u001b[39m\u001b[33m'\u001b[39m, case=\u001b[38;5;28;01mFalse\u001b[39;00m, na=\u001b[38;5;28;01mFalse\u001b[39;00m)]\n\u001b[32m      4\u001b[39m \u001b[38;5;28mprint\u001b[39m(\u001b[33mf\u001b[39m\u001b[33m\"\u001b[39m\u001b[33m找到 \u001b[39m\u001b[38;5;132;01m{\u001b[39;00m\u001b[38;5;28mlen\u001b[39m(dyspnea_concepts)\u001b[38;5;132;01m}\u001b[39;00m\u001b[33m 条包含\u001b[39m\u001b[33m'\u001b[39m\u001b[33mDyspnea\u001b[39m\u001b[33m'\u001b[39m\u001b[33m的记录\u001b[39m\u001b[33m\"\u001b[39m)\n\u001b[32m----> \u001b[39m\u001b[32m5\u001b[39m \u001b[38;5;28mprint\u001b[39m(\u001b[43mdyspnea_concepts\u001b[49m\u001b[43m[\u001b[49m\u001b[43m[\u001b[49m\u001b[33;43m'\u001b[39;49m\u001b[33;43mconcept_code\u001b[39;49m\u001b[33;43m'\u001b[39;49m\u001b[43m,\u001b[49m\u001b[43m \u001b[49m\u001b[33;43m'\u001b[39;49m\u001b[33;43mconcept_name\u001b[39;49m\u001b[33;43m'\u001b[39;49m\u001b[43m,\u001b[49m\u001b[43m \u001b[49m\u001b[33;43m'\u001b[39;49m\u001b[33;43mSynonyms\u001b[39;49m\u001b[33;43m'\u001b[39;49m\u001b[43m]\u001b[49m\u001b[43m]\u001b[49m)\n",
      "\u001b[36mFile \u001b[39m\u001b[32m~\\AppData\\Local\\Programs\\Python\\Python313\\Lib\\site-packages\\pandas\\core\\frame.py:4108\u001b[39m, in \u001b[36mDataFrame.__getitem__\u001b[39m\u001b[34m(self, key)\u001b[39m\n\u001b[32m   4106\u001b[39m     \u001b[38;5;28;01mif\u001b[39;00m is_iterator(key):\n\u001b[32m   4107\u001b[39m         key = \u001b[38;5;28mlist\u001b[39m(key)\n\u001b[32m-> \u001b[39m\u001b[32m4108\u001b[39m     indexer = \u001b[38;5;28;43mself\u001b[39;49m\u001b[43m.\u001b[49m\u001b[43mcolumns\u001b[49m\u001b[43m.\u001b[49m\u001b[43m_get_indexer_strict\u001b[49m\u001b[43m(\u001b[49m\u001b[43mkey\u001b[49m\u001b[43m,\u001b[49m\u001b[43m \u001b[49m\u001b[33;43m\"\u001b[39;49m\u001b[33;43mcolumns\u001b[39;49m\u001b[33;43m\"\u001b[39;49m\u001b[43m)\u001b[49m[\u001b[32m1\u001b[39m]\n\u001b[32m   4110\u001b[39m \u001b[38;5;66;03m# take() does not accept boolean indexers\u001b[39;00m\n\u001b[32m   4111\u001b[39m \u001b[38;5;28;01mif\u001b[39;00m \u001b[38;5;28mgetattr\u001b[39m(indexer, \u001b[33m\"\u001b[39m\u001b[33mdtype\u001b[39m\u001b[33m\"\u001b[39m, \u001b[38;5;28;01mNone\u001b[39;00m) == \u001b[38;5;28mbool\u001b[39m:\n",
      "\u001b[36mFile \u001b[39m\u001b[32m~\\AppData\\Local\\Programs\\Python\\Python313\\Lib\\site-packages\\pandas\\core\\indexes\\base.py:6200\u001b[39m, in \u001b[36mIndex._get_indexer_strict\u001b[39m\u001b[34m(self, key, axis_name)\u001b[39m\n\u001b[32m   6197\u001b[39m \u001b[38;5;28;01melse\u001b[39;00m:\n\u001b[32m   6198\u001b[39m     keyarr, indexer, new_indexer = \u001b[38;5;28mself\u001b[39m._reindex_non_unique(keyarr)\n\u001b[32m-> \u001b[39m\u001b[32m6200\u001b[39m \u001b[38;5;28;43mself\u001b[39;49m\u001b[43m.\u001b[49m\u001b[43m_raise_if_missing\u001b[49m\u001b[43m(\u001b[49m\u001b[43mkeyarr\u001b[49m\u001b[43m,\u001b[49m\u001b[43m \u001b[49m\u001b[43mindexer\u001b[49m\u001b[43m,\u001b[49m\u001b[43m \u001b[49m\u001b[43maxis_name\u001b[49m\u001b[43m)\u001b[49m\n\u001b[32m   6202\u001b[39m keyarr = \u001b[38;5;28mself\u001b[39m.take(indexer)\n\u001b[32m   6203\u001b[39m \u001b[38;5;28;01mif\u001b[39;00m \u001b[38;5;28misinstance\u001b[39m(key, Index):\n\u001b[32m   6204\u001b[39m     \u001b[38;5;66;03m# GH 42790 - Preserve name from an Index\u001b[39;00m\n",
      "\u001b[36mFile \u001b[39m\u001b[32m~\\AppData\\Local\\Programs\\Python\\Python313\\Lib\\site-packages\\pandas\\core\\indexes\\base.py:6252\u001b[39m, in \u001b[36mIndex._raise_if_missing\u001b[39m\u001b[34m(self, key, indexer, axis_name)\u001b[39m\n\u001b[32m   6249\u001b[39m     \u001b[38;5;28;01mraise\u001b[39;00m \u001b[38;5;167;01mKeyError\u001b[39;00m(\u001b[33mf\u001b[39m\u001b[33m\"\u001b[39m\u001b[33mNone of [\u001b[39m\u001b[38;5;132;01m{\u001b[39;00mkey\u001b[38;5;132;01m}\u001b[39;00m\u001b[33m] are in the [\u001b[39m\u001b[38;5;132;01m{\u001b[39;00maxis_name\u001b[38;5;132;01m}\u001b[39;00m\u001b[33m]\u001b[39m\u001b[33m\"\u001b[39m)\n\u001b[32m   6251\u001b[39m not_found = \u001b[38;5;28mlist\u001b[39m(ensure_index(key)[missing_mask.nonzero()[\u001b[32m0\u001b[39m]].unique())\n\u001b[32m-> \u001b[39m\u001b[32m6252\u001b[39m \u001b[38;5;28;01mraise\u001b[39;00m \u001b[38;5;167;01mKeyError\u001b[39;00m(\u001b[33mf\u001b[39m\u001b[33m\"\u001b[39m\u001b[38;5;132;01m{\u001b[39;00mnot_found\u001b[38;5;132;01m}\u001b[39;00m\u001b[33m not in index\u001b[39m\u001b[33m\"\u001b[39m)\n",
      "\u001b[31mKeyError\u001b[39m: \"['Synonyms'] not in index\""
     ]
    }
   ],
   "source": [
    "# 检索包含\"Dyspnea\"的概念名称\n",
    "print(\"\\n包含'Dyspnea'的概念:\")\n",
    "dyspnea_concepts = df[df['concept_name'].str.contains('Dyspnea', case=False, na=False)]\n",
    "print(f\"找到 {len(dyspnea_concepts)} 条包含'Dyspnea'的记录\")\n",
    "print(dyspnea_concepts[['concept_code', 'concept_name', 'Synonyms']])"
   ]
  },
  {
   "cell_type": "code",
   "execution_count": null,
   "metadata": {},
   "outputs": [],
   "source": []
  },
  {
   "cell_type": "code",
   "execution_count": 25,
   "metadata": {},
   "outputs": [
    {
     "name": "stdout",
     "output_type": "stream",
     "text": [
      "\n",
      "检索第321341行的数据:\n"
     ]
    },
    {
     "ename": "IndexError",
     "evalue": "single positional indexer is out-of-bounds",
     "output_type": "error",
     "traceback": [
      "\u001b[31m---------------------------------------------------------------------------\u001b[39m",
      "\u001b[31mIndexError\u001b[39m                                Traceback (most recent call last)",
      "\u001b[36mCell\u001b[39m\u001b[36m \u001b[39m\u001b[32mIn[25]\u001b[39m\u001b[32m, line 3\u001b[39m\n\u001b[32m      1\u001b[39m \u001b[38;5;66;03m# 321341 - 拿这个索引号， 第321341行\u001b[39;00m\n\u001b[32m      2\u001b[39m \u001b[38;5;28mprint\u001b[39m(\u001b[33m\"\u001b[39m\u001b[38;5;130;01m\\n\u001b[39;00m\u001b[33m检索第321341行的数据:\u001b[39m\u001b[33m\"\u001b[39m)\n\u001b[32m----> \u001b[39m\u001b[32m3\u001b[39m \u001b[38;5;28mprint\u001b[39m(\u001b[43mdf\u001b[49m\u001b[43m.\u001b[49m\u001b[43miloc\u001b[49m\u001b[43m[\u001b[49m\u001b[32;43m321341\u001b[39;49m\u001b[43m]\u001b[49m)\n",
      "\u001b[36mFile \u001b[39m\u001b[32m~\\AppData\\Local\\Programs\\Python\\Python313\\Lib\\site-packages\\pandas\\core\\indexing.py:1191\u001b[39m, in \u001b[36m_LocationIndexer.__getitem__\u001b[39m\u001b[34m(self, key)\u001b[39m\n\u001b[32m   1189\u001b[39m maybe_callable = com.apply_if_callable(key, \u001b[38;5;28mself\u001b[39m.obj)\n\u001b[32m   1190\u001b[39m maybe_callable = \u001b[38;5;28mself\u001b[39m._check_deprecated_callable_usage(key, maybe_callable)\n\u001b[32m-> \u001b[39m\u001b[32m1191\u001b[39m \u001b[38;5;28;01mreturn\u001b[39;00m \u001b[38;5;28;43mself\u001b[39;49m\u001b[43m.\u001b[49m\u001b[43m_getitem_axis\u001b[49m\u001b[43m(\u001b[49m\u001b[43mmaybe_callable\u001b[49m\u001b[43m,\u001b[49m\u001b[43m \u001b[49m\u001b[43maxis\u001b[49m\u001b[43m=\u001b[49m\u001b[43maxis\u001b[49m\u001b[43m)\u001b[49m\n",
      "\u001b[36mFile \u001b[39m\u001b[32m~\\AppData\\Local\\Programs\\Python\\Python313\\Lib\\site-packages\\pandas\\core\\indexing.py:1752\u001b[39m, in \u001b[36m_iLocIndexer._getitem_axis\u001b[39m\u001b[34m(self, key, axis)\u001b[39m\n\u001b[32m   1749\u001b[39m     \u001b[38;5;28;01mraise\u001b[39;00m \u001b[38;5;167;01mTypeError\u001b[39;00m(\u001b[33m\"\u001b[39m\u001b[33mCannot index by location index with a non-integer key\u001b[39m\u001b[33m\"\u001b[39m)\n\u001b[32m   1751\u001b[39m \u001b[38;5;66;03m# validate the location\u001b[39;00m\n\u001b[32m-> \u001b[39m\u001b[32m1752\u001b[39m \u001b[38;5;28;43mself\u001b[39;49m\u001b[43m.\u001b[49m\u001b[43m_validate_integer\u001b[49m\u001b[43m(\u001b[49m\u001b[43mkey\u001b[49m\u001b[43m,\u001b[49m\u001b[43m \u001b[49m\u001b[43maxis\u001b[49m\u001b[43m)\u001b[49m\n\u001b[32m   1754\u001b[39m \u001b[38;5;28;01mreturn\u001b[39;00m \u001b[38;5;28mself\u001b[39m.obj._ixs(key, axis=axis)\n",
      "\u001b[36mFile \u001b[39m\u001b[32m~\\AppData\\Local\\Programs\\Python\\Python313\\Lib\\site-packages\\pandas\\core\\indexing.py:1685\u001b[39m, in \u001b[36m_iLocIndexer._validate_integer\u001b[39m\u001b[34m(self, key, axis)\u001b[39m\n\u001b[32m   1683\u001b[39m len_axis = \u001b[38;5;28mlen\u001b[39m(\u001b[38;5;28mself\u001b[39m.obj._get_axis(axis))\n\u001b[32m   1684\u001b[39m \u001b[38;5;28;01mif\u001b[39;00m key >= len_axis \u001b[38;5;129;01mor\u001b[39;00m key < -len_axis:\n\u001b[32m-> \u001b[39m\u001b[32m1685\u001b[39m     \u001b[38;5;28;01mraise\u001b[39;00m \u001b[38;5;167;01mIndexError\u001b[39;00m(\u001b[33m\"\u001b[39m\u001b[33msingle positional indexer is out-of-bounds\u001b[39m\u001b[33m\"\u001b[39m)\n",
      "\u001b[31mIndexError\u001b[39m: single positional indexer is out-of-bounds"
     ]
    }
   ],
   "source": [
    "# 321341 - 拿这个索引号， 第321341行\n",
    "print(\"\\n检索第321341行的数据:\")\n",
    "print(df.iloc[321341])"
   ]
  },
  {
   "cell_type": "code",
   "execution_count": null,
   "metadata": {},
   "outputs": [],
   "source": []
  },
  {
   "cell_type": "code",
   "execution_count": null,
   "metadata": {},
   "outputs": [],
   "source": []
  },
  {
   "cell_type": "code",
   "execution_count": null,
   "metadata": {},
   "outputs": [],
   "source": []
  },
  {
   "cell_type": "code",
   "execution_count": null,
   "metadata": {},
   "outputs": [],
   "source": [
    "# 尝试使用模糊匹配\n",
    "print(\"\\n尝试模糊匹配:\")\n",
    "fuzzy_matches = df[df['concept_code'].str.contains('267036', na=False)]\n",
    "if len(fuzzy_matches) > 0:\n",
    "    print(\"找到的模糊匹配:\")\n",
    "    print(fuzzy_matches[['concept_code', 'concept_name']])\n",
    "\n",
    "# 检查Dyspnea相关的行\n",
    "print(\"\\n检查Dyspnea相关的行:\")\n",
    "dyspnea_rows = df[df['concept_name'].str.contains('Dyspnea', case=False, na=False)]\n",
    "print(dyspnea_rows[['concept_code', 'concept_name']])"
   ]
  },
  {
   "cell_type": "code",
   "execution_count": null,
   "metadata": {},
   "outputs": [],
   "source": []
  }
 ],
 "metadata": {
  "kernelspec": {
   "display_name": "Python 3 (ipykernel)",
   "language": "python",
   "name": "python3"
  },
  "language_info": {
   "codemirror_mode": {
    "name": "ipython",
    "version": 3
   },
   "file_extension": ".py",
   "mimetype": "text/x-python",
   "name": "python",
   "nbconvert_exporter": "python",
   "pygments_lexer": "ipython3",
   "version": "3.13.2"
  }
 },
 "nbformat": 4,
 "nbformat_minor": 4
}
